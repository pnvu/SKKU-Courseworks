{
 "cells": [
  {
   "cell_type": "markdown",
   "metadata": {},
   "source": [
    "# Simulation of Markovian Systems\n",
    "Simulation of a phone calls system and obtain\n",
    "1. Average number of calls in progress\n",
    "2. Standard deviation of the calls in progress\n",
    "3. Probability of calls being blocked"
   ]
  },
  {
   "cell_type": "code",
   "execution_count": 1,
   "metadata": {},
   "outputs": [],
   "source": [
    "import numpy as np"
   ]
  },
  {
   "cell_type": "code",
   "execution_count": 2,
   "metadata": {},
   "outputs": [],
   "source": [
    "def phones():\n",
    "    clock = 0\n",
    "    np.random.seed(3) # set random seed\n",
    "    limit = 100\n",
    "    phones = 24\n",
    "    trunks = 12\n",
    "    callrate = 0.5 # per hour\n",
    "    holdtime = 0.25 # 15 minutes\n",
    "    \n",
    "    # Initialize statistics\n",
    "    avgcalls = 0\n",
    "    varcalls = 0\n",
    "    block = 0\n",
    "    \n",
    "    ''' Starting state '''\n",
    "    calls = 0\n",
    "    totcalls = 0\n",
    "    # Begin event loop\n",
    "    for event in range(0, limit):\n",
    "        prob = np.random.uniform(0,1,1)\n",
    "        # The time until the next event is exponential\n",
    "        # distribution with parm equal to sum of row\n",
    "        newcall = callrate*(phones - calls)\n",
    "        hangup = calls/holdtime\n",
    "        parm = newcall + hangup\n",
    "        \n",
    "        etime = -1/parm\n",
    "        etime = etime*np.log(prob) \n",
    "        \n",
    "        # Update statistics\n",
    "        avgcalls = calls*etime + avgcalls\n",
    "        varcalls = (calls**2)*etime + varcalls\n",
    "        \n",
    "        # Update clock\n",
    "        clock = clock + etime\n",
    "        \n",
    "        ''' Elect hangup or new call event '''\n",
    "        prob = np.random.uniform(0,1,1)\n",
    "        if (prob > (newcall/parm)):\n",
    "            calls = calls - 1 # hangup\n",
    "        else: # new call\n",
    "            totcalls = totcalls + 1\n",
    "            if (calls < trunks):\n",
    "                calls = calls + 1\n",
    "            else:\n",
    "                block = block + 1\n",
    "        \n",
    "    ''' Compute statistics '''\n",
    "    avgcalls = avgcalls/clock # average number of calls in progress\n",
    "    varcalls = np.sqrt(varcalls/clock - avgcalls**2) # standard deviation of calls in progress\n",
    "    block = block/totcalls # probability of calls being blocked\n",
    "    \n",
    "    return [avgcalls, varcalls, block]"
   ]
  },
  {
   "cell_type": "code",
   "execution_count": 3,
   "metadata": {},
   "outputs": [
    {
     "name": "stdout",
     "output_type": "stream",
     "text": [
      "Average number of calls in progress\n",
      "[2.64148343]\n",
      "Standard deviation of calls in progress\n",
      "[1.35448381]\n",
      "Probability of calls being blocked\n",
      "0.0\n"
     ]
    }
   ],
   "source": [
    "sim = phones()\n",
    "print('Average number of calls in progress')\n",
    "print(sim[0])\n",
    "print('Standard deviation of calls in progress')\n",
    "print(sim[1])\n",
    "print('Probability of calls being blocked')\n",
    "print(sim[2])"
   ]
  },
  {
   "cell_type": "code",
   "execution_count": null,
   "metadata": {},
   "outputs": [],
   "source": []
  }
 ],
 "metadata": {
  "kernelspec": {
   "display_name": "Python 3",
   "language": "python",
   "name": "python3"
  },
  "language_info": {
   "codemirror_mode": {
    "name": "ipython",
    "version": 3
   },
   "file_extension": ".py",
   "mimetype": "text/x-python",
   "name": "python",
   "nbconvert_exporter": "python",
   "pygments_lexer": "ipython3",
   "version": "3.5.4"
  }
 },
 "nbformat": 4,
 "nbformat_minor": 2
}
