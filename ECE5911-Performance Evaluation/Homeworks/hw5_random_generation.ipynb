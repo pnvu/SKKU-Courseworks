{
 "cells": [
  {
   "cell_type": "code",
   "execution_count": 1,
   "metadata": {},
   "outputs": [],
   "source": [
    "import numpy as np\n",
    "import matplotlib.pyplot as plt\n",
    "import scipy.stats as stats\n",
    "from scipy import signal"
   ]
  },
  {
   "cell_type": "markdown",
   "metadata": {},
   "source": [
    "# Discrete Convolution"
   ]
  },
  {
   "cell_type": "code",
   "execution_count": 2,
   "metadata": {},
   "outputs": [],
   "source": [
    "# Discrete Convolution\n",
    "def discrete_conv(f, g):\n",
    "    h = np.convolve(f, g)\n",
    "    \n",
    "    return h"
   ]
  },
  {
   "cell_type": "code",
   "execution_count": 3,
   "metadata": {},
   "outputs": [],
   "source": [
    "# Plotting descrete distribution function \n",
    "def discrete_dist_plot(dist_name, dist_vals):\n",
    "    #dist_vals = np.array(dist_vals, dtype = float)\n",
    "    pdf = dist_vals\n",
    "    x = np.linspace(0, pdf.shape[0] + 2, 100)\n",
    "    y = np.linspace(0, 1, 50)\n",
    "    \n",
    "    if dist_name == \"geometric\":\n",
    "        dist_range1 = list(range(1, pdf.shape[0] + 1))\n",
    "        dist_range2 = list(range(2, pdf.shape[0] + 2))\n",
    "    else:\n",
    "        dist_range1 = list(range(0, pdf.shape[0]))\n",
    "        dist_range2 = list(range(1, pdf.shape[0] + 1))\n",
    "    \n",
    "    # Plot pdf\n",
    "    plt.figure(1)\n",
    "    plt.vlines(dist_range1, 0 , pdf, color='k', lw = 1.2)\n",
    "    plt.scatter(dist_range1, pdf, s=30, facecolors='b', edgecolors='k')\n",
    "    plt.title('PDF of ' + dist_name)\n",
    "    plt.ylabel('h')\n",
    "    plt.xlabel('k')\n",
    "    plt.xlim([-0.5, 6])\n",
    "    plt.ylim([0, max(pdf) + 0.1])\n",
    "    plt.grid(which = 'both', linestyle='--', axis = 'y')\n",
    "    \n",
    "    plt.savefig('pdf_' + dist_name + '.png', dpi=150)\n",
    "    plt.show()"
   ]
  },
  {
   "cell_type": "code",
   "execution_count": 4,
   "metadata": {},
   "outputs": [
    {
     "name": "stdout",
     "output_type": "stream",
     "text": [
      "[0.25    0.25    0.25    0.15625 0.0625  0.03125]\n",
      "6\n"
     ]
    },
    {
     "data": {
      "image/png": "[encoded data removed]",
      "text/plain": [
       "<Figure size 432x288 with 1 Axes>"
      ]
     },
     "metadata": {
      "needs_background": "light"
     },
     "output_type": "display_data"
    }
   ],
   "source": [
    "f = [0.5, 0.25, 0.25]\n",
    "g = [0.5, 0.25, 0.125, 0.125]\n",
    "h = discrete_conv(f, g)\n",
    "print(h)\n",
    "print(h.shape[0])\n",
    "discrete_dist_plot('the Combined Traffic', h)"
   ]
  },
  {
   "cell_type": "markdown",
   "metadata": {},
   "source": [
    "# Convolution of 2 Rectangles\n",
    "Examples from the lecture node"
   ]
  },
  {
   "cell_type": "code",
   "execution_count": 5,
   "metadata": {},
   "outputs": [
    {
     "data": {
      "image/png": "[encoded data removed]",
      "text/plain": [
       "<Figure size 432x288 with 1 Axes>"
      ]
     },
     "metadata": {
      "needs_background": "light"
     },
     "output_type": "display_data"
    }
   ],
   "source": [
    "# Create two rectangles as two uniform distribution\n",
    "uniform_dist_1 = stats.uniform(loc=2, scale=0.25)\n",
    "uniform_dist_2 = stats.uniform(loc=0, scale=1)\n",
    "\n",
    "delta = 1e-4\n",
    "big_grid = np.arange(-1,5,delta)\n",
    "\n",
    "pmf1 = uniform_dist_1.pdf(big_grid)*delta\n",
    "pmf2 = uniform_dist_2.pdf(big_grid)*delta\n",
    "conv_pmf = signal.fftconvolve(pmf1,pmf2,'same')\n",
    "\n",
    "pdf1 = pmf1/delta\n",
    "pdf2 = pmf2/delta\n",
    "conv_pdf = conv_pmf/delta\n",
    "\n",
    "#plt.plot(big_grid,pdf1, label='Uniform')\n",
    "#plt.plot(big_grid,pdf2, label='Gaussian')\n",
    "plt.plot(big_grid,conv_pdf, label='Sum', color='k', lw = 1.2)\n",
    "plt.grid(which = 'both', linestyle='--', axis = 'y')\n",
    "#plt.legend(loc='best'), plt.suptitle('PDFs')\n",
    "plt.xlabel('t')\n",
    "plt.ylabel('h(t)')\n",
    "plt.title('PDF of h(t)')\n",
    "plt.xlim([-.05, 3])\n",
    "plt.ylim([0, 2])\n",
    "plt.savefig('pdf_ht.png', dpi=150)\n",
    "plt.show()"
   ]
  },
  {
   "cell_type": "markdown",
   "metadata": {},
   "source": [
    "# Multiplicative Congruential Method\n",
    "Using the multiplicative congruential method to generate random numbers"
   ]
  },
  {
   "cell_type": "code",
   "execution_count": 6,
   "metadata": {},
   "outputs": [],
   "source": [
    "def mul_cong(seed, a, m, n):\n",
    "    results = []\n",
    "    results.append(seed)\n",
    "    for i in range(1, n+1):\n",
    "        seed = (a*seed)%m\n",
    "        results.append(seed)\n",
    "    \n",
    "    return results"
   ]
  },
  {
   "cell_type": "code",
   "execution_count": 7,
   "metadata": {},
   "outputs": [
    {
     "name": "stdout",
     "output_type": "stream",
     "text": [
      "[5, 3, 5, 3, 5, 3, 5, 3, 5, 3, 5, 3, 5]\n"
     ]
    }
   ],
   "source": [
    "p3 = mul_cong(5, 7, 16, 12)\n",
    "print(p3)"
   ]
  },
  {
   "cell_type": "markdown",
   "metadata": {},
   "source": [
    "# Additive Congruential Method\n",
    "Using additive congruential method to generate random numbers"
   ]
  },
  {
   "cell_type": "code",
   "execution_count": 8,
   "metadata": {},
   "outputs": [],
   "source": [
    "def add_cong(seq, k, m, n):\n",
    "    for i in range(len(seq)-1, n+len(seq)-1):\n",
    "        z = (seq[i] + seq[i-k+1])%m\n",
    "        seq.append(z)\n",
    "    \n",
    "    return seq"
   ]
  },
  {
   "cell_type": "code",
   "execution_count": 9,
   "metadata": {},
   "outputs": [
    {
     "name": "stdout",
     "output_type": "stream",
     "text": [
      "[1, 7, 6, 9, 0, 6, 15, 15, 5, 4, 3, 8, 12, 15, 7, 3]\n"
     ]
    }
   ],
   "source": [
    "p4 = add_cong([1, 7, 6, 9], 3, 16, 12)\n",
    "print(p4)"
   ]
  },
  {
   "cell_type": "markdown",
   "metadata": {},
   "source": [
    "# Tausworthe's Bitwise Additive Congruential Method"
   ]
  },
  {
   "cell_type": "code",
   "execution_count": 10,
   "metadata": {},
   "outputs": [],
   "source": [
    "def dec2bin(dec):\n",
    "    binaries = []\n",
    "    bin_str = \"{0:b}\".format(dec)\n",
    "    if len(bin_str) < 4:\n",
    "        bin_str = '00'+bin_str\n",
    "    for i in range(len(bin_str)):\n",
    "        binaries.append(int(bin_str[i]))\n",
    "    \n",
    "    return binaries"
   ]
  },
  {
   "cell_type": "code",
   "execution_count": 11,
   "metadata": {},
   "outputs": [],
   "source": [
    "def bin2dec(binaries):\n",
    "    decs = []\n",
    "    for i in range(0, len(binaries) - 3):\n",
    "        val = binaries[i]*2**3 + binaries[i+1]*2**2 + binaries[i+2]*2**1 + binaries[i+3]\n",
    "        decs.append(val)\n",
    "    \n",
    "    return decs"
   ]
  },
  {
   "cell_type": "code",
   "execution_count": 12,
   "metadata": {},
   "outputs": [],
   "source": [
    "def tausworthe(seed, r, q, n):\n",
    "    results = dec2bin(seed)\n",
    "    for i in range(len(results)-1, n+len(results)-1):\n",
    "        b = (results[i-r+1])^(results[i-q+1])\n",
    "        results.append(b)\n",
    "    results = bin2dec(results)\n",
    "    \n",
    "    return results"
   ]
  },
  {
   "cell_type": "code",
   "execution_count": 13,
   "metadata": {},
   "outputs": [
    {
     "name": "stdout",
     "output_type": "stream",
     "text": [
      "[3, 7, 14, 13, 10, 4, 9, 3, 7, 14, 13, 10, 4]\n"
     ]
    }
   ],
   "source": [
    "p5 = tausworthe(3, 1, 3, 12)\n",
    "print(p5)"
   ]
  },
  {
   "cell_type": "markdown",
   "metadata": {},
   "source": [
    "# Check Uniform Distribution\n",
    "(a) Generate 500,000 random numbers of uniform distribution from 0 to 1 and check if the distribution is acceptable with the probability of 0.9 using the $\\chi^2$ test \n",
    "\n",
    "(b) Draw CDF for both the observed and estimated data\n",
    "\n",
    "(c) Check the independency "
   ]
  },
  {
   "cell_type": "code",
   "execution_count": 14,
   "metadata": {},
   "outputs": [],
   "source": [
    "# Check uniform distribution\n",
    "def uniform_check(n, low, high, step):\n",
    "    uni = np.random.uniform(low, high, n)\n",
    "    observed = []\n",
    "    estimated = n/step\n",
    "    \n",
    "    # Create the interval\n",
    "    for i in range(step):\n",
    "        observed.append(0)\n",
    "    \n",
    "    # Count the observed\n",
    "    for i in range(n):\n",
    "        index = int(uni[i]*10)\n",
    "        observed[index] = observed[index] + 1\n",
    "        \n",
    "    # Calculate the chi squared\n",
    "    chi_squared = 0\n",
    "    for i in range(0, step):\n",
    "        chi_squared = chi_squared + ((observed[i] - estimated)**2)/estimated\n",
    "    \n",
    "    return observed, chi_squared, uni"
   ]
  },
  {
   "cell_type": "code",
   "execution_count": 129,
   "metadata": {},
   "outputs": [
    {
     "name": "stdout",
     "output_type": "stream",
     "text": [
      "[50142, 50085, 49830, 49974, 50057, 50043, 50052, 49898, 49801, 50118]\n",
      "2.57392\n"
     ]
    }
   ],
   "source": [
    "observed, chi_squared, uni = uniform_check(500000, 0, 1.0, 10)\n",
    "print(observed)\n",
    "print(chi_squared)"
   ]
  },
  {
   "cell_type": "code",
   "execution_count": 132,
   "metadata": {},
   "outputs": [],
   "source": [
    "def cdf_plot(cdf, name):\n",
    "    x = np.linspace(0, len(cdf) + 2, 100)\n",
    "    dist_range1 = list(range(0, len(cdf)))\n",
    "    dist_range2 = list(range(1, len(cdf) + 1))\n",
    "    for i in dist_range1:\n",
    "        plt.plot(x[(x >= i) & (x <= (i+1))], cdf[i] + x[(x>=i) & (x<=(i+1))]*0, color='k', lw = 1.2)\n",
    "\n",
    "    plt.scatter(dist_range2, cdf, s=30, facecolors='b', edgecolors='k')\n",
    "    plt.title('CDF of the ' + name + ' data')\n",
    "    plt.ylabel('F(k)')\n",
    "    plt.xlabel('k')\n",
    "    #plt.xlim([0, 9])\n",
    "    plt.ylim([0, max(cdf) + 0.2])\n",
    "    plt.grid(which = 'both', linestyle='--', axis = 'y')\n",
    "\n",
    "    plt.savefig('cdf_'+ name + '_p6.png', dpi=150)\n",
    "    plt.show()"
   ]
  },
  {
   "cell_type": "code",
   "execution_count": 133,
   "metadata": {},
   "outputs": [
    {
     "name": "stdout",
     "output_type": "stream",
     "text": [
      "[0.100284, 0.200454, 0.300114, 0.400062, 0.500176, 0.600262, 0.7003659999999999, 0.8001619999999999, 0.8997639999999999, 0.9999999999999999]\n",
      "[0.1, 0.2, 0.30000000000000004, 0.4, 0.5, 0.6, 0.7, 0.7999999999999999, 0.8999999999999999, 0.9999999999999999]\n"
     ]
    },
    {
     "data": {
      "image/png": "[encoded data removed]",
      "text/plain": [
       "<Figure size 432x288 with 1 Axes>"
      ]
     },
     "metadata": {
      "needs_background": "light"
     },
     "output_type": "display_data"
    },
    {
     "data": {
      "image/png": "[encoded data removed]",
      "text/plain": [
       "<Figure size 432x288 with 1 Axes>"
      ]
     },
     "metadata": {
      "needs_background": "light"
     },
     "output_type": "display_data"
    }
   ],
   "source": [
    "# Plot CDF\n",
    "observed_cdf = [0]\n",
    "estimated_cdf = [0]\n",
    "for i in range(0, len(observed)):\n",
    "    observed_cdf.append(observed_cdf[i] + observed[i]/500000)\n",
    "    estimated_cdf.append(estimated_cdf[i] + 0.10)\n",
    "\n",
    "del observed_cdf[0]\n",
    "del estimated_cdf[0]\n",
    "\n",
    "print(observed_cdf)\n",
    "print(estimated_cdf)\n",
    "\n",
    "cdf_plot(observed_cdf, 'observed')\n",
    "cdf_plot(estimated_cdf, 'estimated')"
   ]
  },
  {
   "cell_type": "markdown",
   "metadata": {},
   "source": [
    "# Check Independency using Relative Distance Technique"
   ]
  },
  {
   "cell_type": "code",
   "execution_count": 134,
   "metadata": {},
   "outputs": [],
   "source": [
    "# Relative distance function\n",
    "def independency_check(z, step):\n",
    "    rd_count = []\n",
    "    rd = []\n",
    "    for i in range(len(z)-1):\n",
    "        if z[i+1] < z[i]:\n",
    "            rd.append((1 - z[i]) + z[i+1])\n",
    "        else:\n",
    "            rd.append(z[i+1] - z[i])\n",
    "            \n",
    "    # Create the interval\n",
    "    for i in range(step):\n",
    "        rd_count.append(0)\n",
    "    \n",
    "    # Count the observed\n",
    "    for i in range(len(rd)):\n",
    "        index = int(rd[i]*10)\n",
    "        rd_count[index] = rd_count[index] + 1\n",
    "    \n",
    "    # Calculate the chi squared\n",
    "    estimated = len(rd)/step\n",
    "    \n",
    "    chi_squared = 0\n",
    "    for i in range(0, step):\n",
    "        chi_squared = chi_squared + ((rd_count[i] - estimated)**2)/estimated\n",
    "    \n",
    "    return rd_count, chi_squared"
   ]
  },
  {
   "cell_type": "code",
   "execution_count": 135,
   "metadata": {},
   "outputs": [
    {
     "name": "stdout",
     "output_type": "stream",
     "text": [
      "[50258, 50029, 49983, 49956, 50220, 49757, 50202, 49755, 50009, 49830]\n",
      "6.137790275580551\n"
     ]
    }
   ],
   "source": [
    "rd_count, chi_squared_2 = independency_check(uni, 10)\n",
    "print(rd_count)\n",
    "print(chi_squared_2)"
   ]
  },
  {
   "cell_type": "code",
   "execution_count": 137,
   "metadata": {},
   "outputs": [
    {
     "name": "stdout",
     "output_type": "stream",
     "text": [
      "Uniform Check\n",
      "2.57392\n",
      "Independency Check\n",
      "6.137790275580551\n"
     ]
    }
   ],
   "source": [
    "print('Uniform Check')\n",
    "print(chi_squared)\n",
    "print('Independency Check')\n",
    "print(chi_squared_2)"
   ]
  },
  {
   "cell_type": "code",
   "execution_count": null,
   "metadata": {},
   "outputs": [],
   "source": []
  }
 ],
 "metadata": {
  "kernelspec": {
   "display_name": "Python 3",
   "language": "python",
   "name": "python3"
  },
  "language_info": {
   "codemirror_mode": {
    "name": "ipython",
    "version": 3
   },
   "file_extension": ".py",
   "mimetype": "text/x-python",
   "name": "python",
   "nbconvert_exporter": "python",
   "pygments_lexer": "ipython3",
   "version": "3.5.4"
  }
 },
 "nbformat": 4,
 "nbformat_minor": 2
}
