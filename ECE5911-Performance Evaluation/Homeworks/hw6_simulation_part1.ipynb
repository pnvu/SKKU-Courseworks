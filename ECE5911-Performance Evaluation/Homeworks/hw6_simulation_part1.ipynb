{
 "cells": [
  {
   "cell_type": "code",
   "execution_count": 1,
   "metadata": {},
   "outputs": [],
   "source": [
    "import numpy as np\n",
    "import matplotlib.pyplot as plt\n",
    "from scipy.stats import norm\n",
    "from scipy.special import comb"
   ]
  },
  {
   "cell_type": "markdown",
   "metadata": {},
   "source": [
    "# DISCRETE RANDOM DISTRIBUTION\n",
    "1. Poisson distribution\n",
    "2. Geometric distribution\n",
    "3. Binomial distribution"
   ]
  },
  {
   "cell_type": "markdown",
   "metadata": {},
   "source": [
    "## Observation"
   ]
  },
  {
   "cell_type": "markdown",
   "metadata": {},
   "source": [
    "### 1. Poisson distribution\n",
    "10 intervals ([0,1],[2,3],…, [16,17], [18~∞])"
   ]
  },
  {
   "cell_type": "code",
   "execution_count": 16,
   "metadata": {},
   "outputs": [],
   "source": [
    "def poisson_observation(lamb, T, n, num_intervals):\n",
    "    observed = []\n",
    "    poisson = []\n",
    "    \n",
    "    # Create the interval\n",
    "    for i in range(num_intervals):\n",
    "        observed.append(0)\n",
    "    \n",
    "    #print(len(observed))\n",
    "    \n",
    "    for i in range(n):\n",
    "        z = 1\n",
    "        m = 0\n",
    "        while(1):\n",
    "            m += 1\n",
    "            z = z*np.random.uniform(0,1,1)\n",
    "            if (z <= np.exp(-lamb*T)):\n",
    "                break\n",
    "            else:\n",
    "                pass\n",
    "        k = m - 1\n",
    "        poisson.append(k)\n",
    "        # Add to the interval\n",
    "        # Because k is an integer so we can use the method below to add k to the suitable interval\n",
    "        if (k>18):\n",
    "            observed[num_intervals - 1] += 1\n",
    "        else:\n",
    "            index = int(k/2)\n",
    "            observed[index] += 1\n",
    "    \n",
    "    return poisson, observed"
   ]
  },
  {
   "cell_type": "code",
   "execution_count": 3,
   "metadata": {},
   "outputs": [
    {
     "name": "stdout",
     "output_type": "stream",
     "text": [
      "[8615, 66401, 147058, 150138, 85653, 32006, 8355, 1535, 203, 36]\n"
     ]
    },
    {
     "data": {
      "image/png": "[encoded data removed]",
      "text/plain": [
       "<Figure size 432x288 with 1 Axes>"
      ]
     },
     "metadata": {},
     "output_type": "display_data"
    }
   ],
   "source": [
    "data_observed, data_count = poisson_observation(1, 6, 500000, 10)\n",
    "print(data_count)\n",
    "\n",
    "# Choose how many bins you want here\n",
    "num_bins = 2000\n",
    "# Use the histogram function to bin the data\n",
    "counts, bin_edges = np.histogram(data_observed, bins=num_bins, normed=True)\n",
    "cdf = np.cumsum (counts)\n",
    "plt.plot (bin_edges[1:], cdf/cdf[-1], color = 'k', linewidth = 0.9)\n",
    "\n",
    "plt.show()"
   ]
  },
  {
   "cell_type": "markdown",
   "metadata": {},
   "source": [
    "### 2. Geometric distribution\n",
    "10 intervals ([1,2],[3,4],…, [17,18], [19~∞])"
   ]
  },
  {
   "cell_type": "code",
   "execution_count": 17,
   "metadata": {},
   "outputs": [],
   "source": [
    "def geometric_observation(p, n, num_intervals):\n",
    "    observed = []\n",
    "    geometric = []\n",
    "    \n",
    "    # Create the intervals\n",
    "    for i in range(num_intervals):\n",
    "        observed.append(0)\n",
    "    \n",
    "    for i in range(n):\n",
    "        k = 1\n",
    "        while (1):\n",
    "            z = np.random.uniform(0,1,1)\n",
    "            if (z <= p):\n",
    "                break\n",
    "            else:\n",
    "                k += 1\n",
    "        geometric.append(k)\n",
    "        \n",
    "        # Add to the intervals\n",
    "        if (k>19):\n",
    "            observed[num_intervals - 1] += 1\n",
    "        else:\n",
    "            index = int((k-1)/2)\n",
    "            observed[index] += 1\n",
    "    \n",
    "    return geometric, observed"
   ]
  },
  {
   "cell_type": "code",
   "execution_count": 7,
   "metadata": {},
   "outputs": [
    {
     "name": "stdout",
     "output_type": "stream",
     "text": [
      "[255274, 125440, 60976, 29714, 14593, 7090, 3499, 1756, 851, 807]\n"
     ]
    },
    {
     "name": "stderr",
     "output_type": "stream",
     "text": [
      "c:\\users\\phan nguyen vu (vpi)\\appdata\\local\\programs\\python\\python35\\lib\\site-packages\\ipykernel_launcher.py:7: VisibleDeprecationWarning: Passing `normed=True` on non-uniform bins has always been broken, and computes neither the probability density function nor the probability mass function. The result is only correct if the bins are uniform, when density=True will produce the same result anyway. The argument will be removed in a future version of numpy.\n",
      "  import sys\n"
     ]
    },
    {
     "data": {
      "image/png": "[encoded data removed]",
      "text/plain": [
       "<Figure size 432x288 with 1 Axes>"
      ]
     },
     "metadata": {
      "needs_background": "light"
     },
     "output_type": "display_data"
    }
   ],
   "source": [
    "data_observed, data_count = geometric_observation(0.3, 500000, 10)\n",
    "print(data_count)\n",
    "\n",
    "# Choose how many bins you want here\n",
    "num_bins = 2000\n",
    "# Use the histogram function to bin the data\n",
    "counts, bin_edges = np.histogram(data_observed, bins=num_bins, normed=True)\n",
    "cdf = np.cumsum (counts)\n",
    "plt.plot (bin_edges[1:], cdf/cdf[-1], color = 'k', linewidth = 0.9)\n",
    "\n",
    "plt.show()"
   ]
  },
  {
   "cell_type": "markdown",
   "metadata": {},
   "source": [
    "### 3. Binomial distribution\n",
    "10 intervals [0,1), [1,2), ..., [8,9), [9, $\\infty$]"
   ]
  },
  {
   "cell_type": "code",
   "execution_count": 18,
   "metadata": {},
   "outputs": [],
   "source": [
    "def binomial_observation(p, nb, n, num_intervals):\n",
    "    observed = []\n",
    "    binomial = []\n",
    "    \n",
    "    # Create the intervals\n",
    "    for i in range(num_intervals):\n",
    "        observed.append(0)\n",
    "    \n",
    "    for i in range(n):\n",
    "        z = np.random.uniform(0,1,nb)\n",
    "        k = 0\n",
    "        for i in range(nb):\n",
    "            if (z[i]<p):\n",
    "                k += 1\n",
    "            else:\n",
    "                pass\n",
    "        binomial.append(k)\n",
    "        \n",
    "        # Add to the intervals\n",
    "        if(k >= (num_intervals - 1)):\n",
    "            observed[(num_intervals - 1)] += 1\n",
    "        else:\n",
    "            index = int(k)\n",
    "            observed[index] += 1\n",
    "    \n",
    "    return binomial, observed"
   ]
  },
  {
   "cell_type": "code",
   "execution_count": 49,
   "metadata": {},
   "outputs": [
    {
     "name": "stdout",
     "output_type": "stream",
     "text": [
      "[414, 3504, 14054, 35609, 65095, 89595, 95576, 81877, 57457, 56819]\n"
     ]
    },
    {
     "name": "stderr",
     "output_type": "stream",
     "text": [
      "c:\\users\\phan nguyen vu (vpi)\\appdata\\local\\programs\\python\\python35\\lib\\site-packages\\ipykernel_launcher.py:7: VisibleDeprecationWarning: Passing `normed=True` on non-uniform bins has always been broken, and computes neither the probability density function nor the probability mass function. The result is only correct if the bins are uniform, when density=True will produce the same result anyway. The argument will be removed in a future version of numpy.\n",
      "  import sys\n"
     ]
    },
    {
     "data": {
      "image/png": "[encoded data removed]",
      "text/plain": [
       "<Figure size 432x288 with 1 Axes>"
      ]
     },
     "metadata": {
      "needs_background": "light"
     },
     "output_type": "display_data"
    }
   ],
   "source": [
    "data_observed, data_count = binomial_observation(0.3, 20, 500000, 10)\n",
    "print(data_count)\n",
    "\n",
    "# Choose how many bins you want here\n",
    "num_bins = 2000\n",
    "# Use the histogram function to bin the data\n",
    "counts, bin_edges = np.histogram(data_observed, bins=num_bins, normed=True)\n",
    "cdf = np.cumsum (counts)\n",
    "plt.plot (bin_edges[1:], cdf/cdf[-1], color = 'k', linewidth = 0.9)\n",
    "\n",
    "plt.show()"
   ]
  },
  {
   "cell_type": "markdown",
   "metadata": {},
   "source": [
    "## Estimation"
   ]
  },
  {
   "cell_type": "markdown",
   "metadata": {},
   "source": [
    "### 1. Poisson distribution"
   ]
  },
  {
   "cell_type": "code",
   "execution_count": 19,
   "metadata": {},
   "outputs": [],
   "source": [
    "# Calculate factor\n",
    "def factor(n):\n",
    "    temp = 1    \n",
    "    if n == 0:\n",
    "        temp = 1\n",
    "    elif n == 1:\n",
    "        temp = 1\n",
    "    else:\n",
    "        for i in range(2, n+1):\n",
    "            temp = temp*i\n",
    "    \n",
    "    return temp"
   ]
  },
  {
   "cell_type": "code",
   "execution_count": 20,
   "metadata": {},
   "outputs": [],
   "source": [
    "def poisson_estimation(lamb, T, n, num_intervals):\n",
    "    estimated = []\n",
    "    \n",
    "    # Add to intervals\n",
    "    index = 0\n",
    "    while (index < 2*num_intervals-1):\n",
    "        estimated.append(n*(((lamb*T)**index)*np.exp(-lamb*T)/factor(index) + ((lamb*T)**(index+1))*np.exp(-lamb*T)/factor(index+1)))\n",
    "        index += 2\n",
    "    \n",
    "    return estimated"
   ]
  },
  {
   "cell_type": "code",
   "execution_count": 21,
   "metadata": {},
   "outputs": [
    {
     "name": "stdout",
     "output_type": "stream",
     "text": [
      "[8675.632618332254, 66926.30876999168, 147237.87929398168, 149150.0595445529, 86048.11127570359, 31916.026727715514, 8231.735400361016, 1559.6972337526133, 226.0905653969124, 25.868485743353826]\n"
     ]
    }
   ],
   "source": [
    "data_count = poisson_estimation(1, 6, 500000, 10)\n",
    "print(data_count)"
   ]
  },
  {
   "cell_type": "markdown",
   "metadata": {},
   "source": [
    "### 2. Geometric distribution"
   ]
  },
  {
   "cell_type": "code",
   "execution_count": 22,
   "metadata": {},
   "outputs": [],
   "source": [
    "def geometric_estimation(p, n, num_intervals):\n",
    "    estimated = []\n",
    "    \n",
    "    # Add to intervals\n",
    "    index = 1\n",
    "    for i in range(num_intervals - 1):\n",
    "        estimated.append(n*(((1-p)**(index-1))*p + ((1-p)**(index))*p))\n",
    "        index += 2\n",
    "    index -= 1\n",
    "    estimated.append(n*((1-p)**index))\n",
    "    \n",
    "    return estimated"
   ]
  },
  {
   "cell_type": "code",
   "execution_count": 3,
   "metadata": {},
   "outputs": [
    {
     "name": "stdout",
     "output_type": "stream",
     "text": [
      "[255000.0, 124949.99999999997, 61225.49999999998, 30000.494999999988, 14700.242549999992, 7203.118849499995, 3529.528236254997, 1729.4688357649482, 847.4397295248247, 814.2067989552236]\n"
     ]
    }
   ],
   "source": [
    "data_count = geometric_estimation(0.3, 500000, 10)\n",
    "print(data_count)"
   ]
  },
  {
   "cell_type": "markdown",
   "metadata": {},
   "source": [
    "### 3. Binomial distribution"
   ]
  },
  {
   "cell_type": "code",
   "execution_count": 23,
   "metadata": {},
   "outputs": [],
   "source": [
    "def binomial_estimation(p, nb, n, num_intervals):\n",
    "    estimated = []\n",
    "    \n",
    "    # Add to intervals\n",
    "    for i in range(num_intervals - 1):\n",
    "        estimated.append(n*(comb(nb, i)*(p**i)*((1-p)**(nb-i))))\n",
    "    # For the intervals [9, 20]\n",
    "    last = 0\n",
    "    for i in range(9, 21):\n",
    "        last = last + n*(comb(nb, i)*(p**i)*((1-p)**(nb-i)))\n",
    "    estimated.append(last)\n",
    "    \n",
    "    return estimated"
   ]
  },
  {
   "cell_type": "code",
   "execution_count": 24,
   "metadata": {},
   "outputs": [
    {
     "name": "stdout",
     "output_type": "stream",
     "text": [
      "[398.9613314880595, 3419.668555611939, 13922.936262134319, 35801.83610263111, 65210.48718693524, 89431.52528493978, 95819.49137672118, 82130.99260861817, 57198.3698524305, 56665.73143848914]\n"
     ]
    }
   ],
   "source": [
    "data_count = binomial_estimation(0.3, 20, 500000, 10)\n",
    "print(data_count)"
   ]
  },
  {
   "cell_type": "markdown",
   "metadata": {},
   "source": [
    "# CONTINUOUS RANDOM DISTRIBUTION\n",
    "1. Exponential distribution\n",
    "2. Normal distribution"
   ]
  },
  {
   "cell_type": "markdown",
   "metadata": {},
   "source": [
    "## Observation"
   ]
  },
  {
   "cell_type": "markdown",
   "metadata": {},
   "source": [
    "### 1. Exponential distribution\n",
    "Generate exponential distribution from uniform distribution.\n",
    "\n",
    "$y = -\\displaystyle\\frac{1}{\\lambda}ln(z)$\n",
    "\n",
    "where $z$ is a r.v. w.r.t. uniform distribution."
   ]
  },
  {
   "cell_type": "code",
   "execution_count": 105,
   "metadata": {},
   "outputs": [],
   "source": [
    "def exponential_observation(lamb, n, num_intervals):\n",
    "    observed = []\n",
    "    \n",
    "    z = np.random.uniform(0, 1, n) # uniform r.v.\n",
    "    exp = -(1/lamb)*np.log(z)\n",
    "    \n",
    "    # Create the interval\n",
    "    for i in range(num_intervals):\n",
    "        observed.append(0)\n",
    "    \n",
    "    # Count the observed\n",
    "    for i in range(n):\n",
    "        index = int(exp[i])\n",
    "        if index > (len(observed) - 1):\n",
    "            observed[len(observed) - 1] += 1\n",
    "        else:\n",
    "            observed[index] +=1\n",
    "    \n",
    "    return exp, observed"
   ]
  },
  {
   "cell_type": "markdown",
   "metadata": {},
   "source": [
    "Test the observation of the exponential distribution.\n"
   ]
  },
  {
   "cell_type": "code",
   "execution_count": 6,
   "metadata": {},
   "outputs": [
    {
     "name": "stdout",
     "output_type": "stream",
     "text": [
      "[316007, 116101, 42983, 15751, 5810, 2080, 789, 292, 116, 71]\n"
     ]
    },
    {
     "data": {
      "image/png": "[encoded data removed]",
      "text/plain": [
       "<Figure size 432x288 with 1 Axes>"
      ]
     },
     "metadata": {},
     "output_type": "display_data"
    }
   ],
   "source": [
    "data_observed, data_count = exponential_observation(1, 500000, 10)\n",
    "print(data_count)\n",
    "\n",
    "# Choose how many bins you want here\n",
    "num_bins = 2000\n",
    "# Use the histogram function to bin the data\n",
    "counts, bin_edges = np.histogram(data_observed, bins=num_bins, normed=True)\n",
    "cdf = np.cumsum (counts)\n",
    "plt.plot (bin_edges[1:], cdf/cdf[-1], color = 'k', linewidth = 0.9)\n",
    "\n",
    "plt.show()"
   ]
  },
  {
   "cell_type": "markdown",
   "metadata": {},
   "source": [
    "### 2. Normal distribution\n",
    "Rejection method for generating the normal distribution.\n",
    "1. Generate $z_1$, and then let $x = -ln(z_1)$ (the exponential distribution with $\\lambda = 1$)\n",
    "2. Generate $z_2$\n",
    "3. If $z_2 > e^{-(x-1)^2/x}$, then go to 1\n",
    "4. Generate $z_3$ (to decide left or right after accepted)\n",
    "5. If $z_3 > 0.5$, then return $\\mu + \\sigma x$, else return $\\mu - \\sigma x$"
   ]
  },
  {
   "cell_type": "code",
   "execution_count": 106,
   "metadata": {},
   "outputs": [],
   "source": [
    "def normal_observation(mu, sigma, n, intervals):\n",
    "    observed = []\n",
    "    normal = []\n",
    "    temp = 0\n",
    "    \n",
    "    for i in range(len(intervals) + 1):\n",
    "        observed.append(0)\n",
    "        \n",
    "    # Generate the random number following the normal distribution using the rejection method\n",
    "    for i in range(n):\n",
    "        while(1):\n",
    "            z1 = np.random.uniform(0, 1, 1)\n",
    "            x = -np.log(z1)\n",
    "            z2 = np.random.uniform(0, 1, 1)\n",
    "            if (z2 < np.exp((-(x-1)**2)/2)):\n",
    "                break\n",
    "        \n",
    "        z3 = np.random.uniform(0, 1, 1)\n",
    "        if (z3>0.5):\n",
    "            temp = mu + sigma*x\n",
    "        else:\n",
    "            temp = mu - sigma*x\n",
    "        normal.append(temp)\n",
    "            \n",
    "        # Add to the observed list\n",
    "        if (temp > intervals[(len(intervals) - 1)]):\n",
    "            observed[(len(intervals))] += 1\n",
    "        else:\n",
    "            for j in range(len(intervals)):\n",
    "                if (temp < intervals[j]):\n",
    "                    observed[j] += 1\n",
    "                    break\n",
    "    \n",
    "    return normal, observed"
   ]
  },
  {
   "cell_type": "markdown",
   "metadata": {},
   "source": [
    "Test the observation of the normal distribution"
   ]
  },
  {
   "cell_type": "code",
   "execution_count": 8,
   "metadata": {},
   "outputs": [
    {
     "name": "stdout",
     "output_type": "stream",
     "text": [
      "[11396, 21948, 45793, 75214, 95661, 95429, 75330, 45912, 22036, 11281]\n"
     ]
    },
    {
     "data": {
      "image/png": "[encoded data removed]",
      "text/plain": [
       "<Figure size 432x288 with 1 Axes>"
      ]
     },
     "metadata": {},
     "output_type": "display_data"
    }
   ],
   "source": [
    "data_observed, data_count = normal_observation(1, 1, 500000, [-1, -0.5, 0, 0.5, 1, 1.5, 2, 2.5, 3])\n",
    "print(data_count)\n",
    "\n",
    "# Choose how many bins you want here\n",
    "num_bins = 2000\n",
    "# Use the histogram function to bin the data\n",
    "counts, bin_edges = np.histogram(data_observed, bins=num_bins, normed=True)\n",
    "cdf = np.cumsum (counts)\n",
    "plt.plot (bin_edges[1:], cdf/cdf[-1], color = 'k', linewidth = 0.9)\n",
    "\n",
    "plt.show()"
   ]
  },
  {
   "cell_type": "markdown",
   "metadata": {},
   "source": [
    "## Estimation"
   ]
  },
  {
   "cell_type": "markdown",
   "metadata": {},
   "source": [
    "### 1. Exponential distribution\n",
    "The CDF of the exponential distribution\n",
    "\n",
    "$F(t) = 1 - e^{-\\lambda t}$\n",
    "\n",
    "So, the counting of estimation is following the formula below\n",
    "\n",
    "$[a,b) = N\\times (F(b) - F(a)) = N\\times (e^{-\\lambda a} - e^{-\\lambda b})$"
   ]
  },
  {
   "cell_type": "code",
   "execution_count": 107,
   "metadata": {},
   "outputs": [],
   "source": [
    "def exponential_estimation(lamb, n, num_intervals):\n",
    "    estimated = []\n",
    "    \n",
    "    for i in range(num_intervals - 1):\n",
    "        estimated.append(n*(np.exp(-lamb*i) - np.exp(-lamb*(i+1))))\n",
    "    estimated.append(n - sum(estimated))\n",
    "    \n",
    "    return estimated"
   ]
  },
  {
   "cell_type": "code",
   "execution_count": 10,
   "metadata": {},
   "outputs": [
    {
     "name": "stdout",
     "output_type": "stream",
     "text": [
      "[316060.2794142788, 116272.07896741481, 42774.107434374375, 15735.714739564883, 5788.845944824356, 2129.597411209554, 783.435105555921, 288.20966882600214, 106.02641190791614, 61.704902043391485]\n"
     ]
    }
   ],
   "source": [
    "data_count = exponential_estimation(1, 500000, 10)\n",
    "print(data_count)"
   ]
  },
  {
   "cell_type": "markdown",
   "metadata": {},
   "source": [
    "### 2. Normal distribution\n",
    "To find $F_Z(z)$, we use the method <code>norm.cdf(z)</code>"
   ]
  },
  {
   "cell_type": "code",
   "execution_count": 108,
   "metadata": {},
   "outputs": [],
   "source": [
    "def normal_estimation(mu, sigma, intervals, n):\n",
    "    estimated = []\n",
    "    a = 0\n",
    "    b = 0\n",
    "    \n",
    "    # [-inf, intervals[0])\n",
    "    b = (intervals[0] - mu)/sigma\n",
    "    estimated.append(n*norm.cdf(b))\n",
    "    \n",
    "    # [intervals[0], intervals[1]), ..., [intervals[k-1], intervals[k])\n",
    "    for i in range(0, len(intervals) - 1):\n",
    "        a = (intervals[i] - mu)/sigma\n",
    "        b = (intervals[i+1] - mu)/sigma\n",
    "        estimated.append(n*(norm.cdf(b) - norm.cdf(a)))\n",
    "    \n",
    "    # [intervals[k], inf)\n",
    "    a = (intervals[len(intervals) - 1] - mu)/sigma\n",
    "    estimated.append(n*(1 - norm.cdf(a)))\n",
    "    \n",
    "    return estimated"
   ]
  },
  {
   "cell_type": "code",
   "execution_count": 12,
   "metadata": {},
   "outputs": [
    {
     "name": "stdout",
     "output_type": "stream",
     "text": [
      "[11375.065974089597, 22028.53466033944, 45924.0263312995, 74941.1423972649, 95731.23063700656, 95731.23063700656, 74941.1423972649, 45924.026331299494, 22028.53466033944, 11375.065974089604]\n"
     ]
    }
   ],
   "source": [
    "data_count = normal_estimation(1, 1, [-1, -0.5, 0, 0.5, 1, 1.5, 2, 2.5, 3], 500000)\n",
    "print(data_count)"
   ]
  },
  {
   "cell_type": "markdown",
   "metadata": {},
   "source": [
    "# CHECKING DISTRIBUTION"
   ]
  },
  {
   "cell_type": "code",
   "execution_count": 9,
   "metadata": {},
   "outputs": [],
   "source": [
    "def chi_squared_test(observation, estimation):\n",
    "    observation = np.array(observation, dtype = float)\n",
    "    estimation = np.array(estimation, dtype = float)\n",
    "    diff_norm = np.divide(np.square(estimation - observation), estimation)\n",
    "    chi_squared = np.sum(diff_norm)\n",
    "    \n",
    "    return diff_norm, chi_squared"
   ]
  },
  {
   "cell_type": "markdown",
   "metadata": {},
   "source": [
    "*Calculate CDF*"
   ]
  },
  {
   "cell_type": "code",
   "execution_count": 140,
   "metadata": {},
   "outputs": [],
   "source": [
    "def cdf_calculation(obs, est):\n",
    "    # Calculate the CDF\n",
    "    observed_cdf = []\n",
    "    estimated_cdf = []\n",
    "    observed_cdf.append(obs[0]/500000)\n",
    "    estimated_cdf.append(est[0]/500000)\n",
    "    for i in range(1, len(obs)):\n",
    "        observed_cdf.append(obs[i]/500000.0 + observed_cdf[i-1])\n",
    "        estimated_cdf.append(est[i]/500000.0 + observed_cdf[i-1])\n",
    "    \n",
    "    return observed_cdf, estimated_cdf"
   ]
  },
  {
   "cell_type": "markdown",
   "metadata": {},
   "source": [
    "### 1. Exponential distribution"
   ]
  },
  {
   "cell_type": "code",
   "execution_count": 112,
   "metadata": {},
   "outputs": [
    {
     "name": "stdout",
     "output_type": "stream",
     "text": [
      "[315902, 116190, 42970, 15801, 5747, 2138, 792, 296, 108, 56]\n",
      "[316060.2794142788, 116272.07896741481, 42774.107434374375, 15735.714739564883, 5788.845944824356, 2129.597411209554, 783.435105555921, 288.20966882600214, 106.02641190791614, 61.704902043391485]\n",
      "[0.07926454 0.05794131 0.89712912 0.27085933 0.30249261 0.03315345\n",
      " 0.0936356  0.2105733  0.0367366  0.52744444]\n",
      "2.509230295962819\n"
     ]
    }
   ],
   "source": [
    "exp_observed, exp_observation = exponential_observation(1, 500000, 10)\n",
    "exp_estimation = exponential_estimation(1, 500000, 10)\n",
    "diff_norm, chi_squared = chi_squared_test(exp_observation, exp_estimation)\n",
    "print(exp_observation)\n",
    "print(exp_estimation)\n",
    "print(diff_norm)\n",
    "print(chi_squared)"
   ]
  },
  {
   "cell_type": "code",
   "execution_count": 141,
   "metadata": {},
   "outputs": [
    {
     "name": "stdout",
     "output_type": "stream",
     "text": [
      "[0.631804, 0.8641840000000001, 0.9501240000000001, 0.9817260000000001, 0.9932200000000001, 0.997496, 0.9990800000000001, 0.9996720000000001, 0.9998880000000001, 1.0]\n",
      "\n",
      "[0.6321205588285576, 0.8643481579348297, 0.9497322148687488, 0.9815954294791298, 0.9933036918896488, 0.9974791948224192, 0.9990628702111118, 0.999656419337652, 0.999884052823816, 1.0000114098040869]\n",
      "\n"
     ]
    }
   ],
   "source": [
    "for i in range(2):\n",
    "    print(cdf_calculation(exp_observation, exp_estimation)[i])\n",
    "    print()"
   ]
  },
  {
   "cell_type": "markdown",
   "metadata": {},
   "source": [
    "### 2. Normal distribution"
   ]
  },
  {
   "cell_type": "code",
   "execution_count": 116,
   "metadata": {},
   "outputs": [
    {
     "name": "stdout",
     "output_type": "stream",
     "text": [
      "[11343, 21944, 45796, 74801, 95708, 95776, 75090, 45943, 22157, 11442]\n",
      "[11375.065974089597, 22028.53466033944, 45924.0263312995, 74941.1423972649, 95731.23063700656, 95731.23063700656, 74941.1423972649, 45924.026331299494, 22028.53466033944, 11375.065974089604]\n",
      "[0.09039303 0.32440237 0.35690994 0.26207089 0.00563727 0.0209367\n",
      " 0.29567985 0.00783904 0.74918027 0.39385827]\n",
      "2.506907616790629\n"
     ]
    }
   ],
   "source": [
    "norm_observed, norm_observation = normal_observation(1, 1, 500000, [-1, -0.5, 0, 0.5, 1, 1.5, 2, 2.5, 3])\n",
    "norm_estimation = normal_estimation(1, 1, [-1, -0.5, 0, 0.5, 1, 1.5, 2, 2.5, 3], 500000)\n",
    "diff_norm, chi_squared = chi_squared_test(norm_observation, norm_estimation)\n",
    "print(norm_observation)\n",
    "print(norm_estimation)\n",
    "print(diff_norm)\n",
    "print(chi_squared)"
   ]
  },
  {
   "cell_type": "markdown",
   "metadata": {},
   "source": [
    "### 3. Poisson distribution"
   ]
  },
  {
   "cell_type": "code",
   "execution_count": 42,
   "metadata": {},
   "outputs": [
    {
     "name": "stdout",
     "output_type": "stream",
     "text": [
      "[8573, 66743, 147484, 149095, 86062, 32037, 8216, 1530, 234, 26]\n",
      "[8675.632618332254, 66926.30876999168, 147237.87929398168, 149150.0595445529, 86048.11127570359, 31916.026727715514, 8231.735400361016, 1559.6972337526133, 226.0905653969124, 25.868485743353826]\n",
      "[1.21414251e+00 5.02076176e-01 4.11411807e-01 2.03255262e-02\n",
      " 2.24173035e-03 4.58532409e-01 3.00790553e-02 5.65446725e-01\n",
      " 2.76699541e-01 6.68612762e-04]\n",
      "3.4816240896671813\n"
     ]
    }
   ],
   "source": [
    "p_observed, p_observation = poisson_observation(1, 6, 500000, 10)\n",
    "p_estimation = poisson_estimation(1, 6, 500000, 10)\n",
    "diff_norm, chi_squared = chi_squared_test(p_observation, p_estimation)\n",
    "print(p_observation)\n",
    "print(p_estimation)\n",
    "print(diff_norm)\n",
    "print(chi_squared)"
   ]
  },
  {
   "cell_type": "code",
   "execution_count": 142,
   "metadata": {},
   "outputs": [
    {
     "name": "stdout",
     "output_type": "stream",
     "text": [
      "[0.017146, 0.150632, 0.4456, 0.74379, 0.9159139999999999, 0.9799879999999999, 0.9964199999999999, 0.9994799999999998, 0.9999479999999998, 0.9999999999999999]\n",
      "\n",
      "[0.01735126523666451, 0.15099861753998337, 0.44510775858796336, 0.7439001190891058, 0.9158862225514071, 0.979746053455431, 0.9964514708007219, 0.9995393944675051, 0.9999321811307936, 0.9999997369714866]\n",
      "\n"
     ]
    }
   ],
   "source": [
    "for i in range(2):\n",
    "    print(cdf_calculation(p_observation, p_estimation)[i])\n",
    "    print()"
   ]
  },
  {
   "cell_type": "markdown",
   "metadata": {},
   "source": [
    "### 4. Geometric distribution"
   ]
  },
  {
   "cell_type": "code",
   "execution_count": 123,
   "metadata": {},
   "outputs": [
    {
     "name": "stdout",
     "output_type": "stream",
     "text": [
      "[255105, 124656, 61290, 30065, 14790, 7255, 3482, 1726, 839, 792]\n",
      "[255000.0, 124949.99999999997, 61225.49999999998, 30000.494999999988, 14700.242549999992, 7203.118849499995, 3529.528236254997, 1729.4688357649482, 847.4397295248247, 814.2067989552236]\n",
      "[0.04323529 0.69176471 0.06794963 0.13869421 0.54804537 0.37367893\n",
      " 0.64000996 0.00695752 0.08405204 0.60567158]\n",
      "3.200059249783531\n"
     ]
    }
   ],
   "source": [
    "geo_observed, geo_observation = geometric_observation(0.3, 500000, 10)\n",
    "geo_estimation = geometric_estimation(0.3, 500000, 10)\n",
    "diff_norm, chi_squared = chi_squared_test(geo_observation, geo_estimation)\n",
    "print(geo_observation)\n",
    "print(geo_estimation)\n",
    "print(diff_norm)\n",
    "print(chi_squared)"
   ]
  },
  {
   "cell_type": "code",
   "execution_count": 143,
   "metadata": {},
   "outputs": [
    {
     "name": "stdout",
     "output_type": "stream",
     "text": [
      "[0.51021, 0.759522, 0.882102, 0.9422320000000001, 0.9718120000000001, 0.9863220000000001, 0.9932860000000001, 0.9967380000000001, 0.9984160000000001, 1.0]\n",
      "\n",
      "[0.51, 0.7601100000000001, 0.881973, 0.94210299, 0.9716324851, 0.9862182376990001, 0.9933810564725102, 0.99674493767153, 0.9984328794590498, 1.0000444135979105]\n",
      "\n"
     ]
    }
   ],
   "source": [
    "for i in range(2):\n",
    "    print(cdf_calculation(geo_observation, geo_estimation)[i])\n",
    "    print()"
   ]
  },
  {
   "cell_type": "markdown",
   "metadata": {},
   "source": [
    "### 5. Binomial distribution"
   ]
  },
  {
   "cell_type": "code",
   "execution_count": 125,
   "metadata": {},
   "outputs": [
    {
     "name": "stdout",
     "output_type": "stream",
     "text": [
      "[399, 3448, 13906, 36023, 65276, 89271, 95852, 82167, 56923, 56735]\n",
      "[398.9613314880595, 3419.668555611939, 13922.936262134319, 35801.83610263111, 65210.48718693524, 89431.52528493978, 95819.49137672118, 82130.99260861817, 57198.3698524305, 56665.73143848914]\n",
      "[3.74786652e-06 2.34721795e-01 2.06017588e-02 1.36622796e+00\n",
      " 6.58165406e-02 2.88135163e-01 1.10291818e-02 1.57861508e-02\n",
      " 1.32571183e+00 8.46743436e-02]\n",
      "3.4127084720564933\n"
     ]
    }
   ],
   "source": [
    "bino_observed, bino_observation = binomial_observation(0.3, 20, 500000, 10)\n",
    "bino_estimation = binomial_estimation(0.3, 20, 500000, 10)\n",
    "diff_norm, chi_squared = chi_squared_test(bino_observation, bino_estimation)\n",
    "print(bino_observation)\n",
    "print(bino_estimation)\n",
    "print(diff_norm)\n",
    "print(chi_squared)"
   ]
  },
  {
   "cell_type": "code",
   "execution_count": 144,
   "metadata": {},
   "outputs": [
    {
     "name": "stdout",
     "output_type": "stream",
     "text": [
      "[0.000798, 0.007694, 0.035506, 0.10755200000000001, 0.238104, 0.416646, 0.6083500000000001, 0.772684, 0.88653, 1.0]\n",
      "\n",
      "[0.000797922662976119, 0.007637337111223878, 0.035539872524268636, 0.10710967220526221, 0.2379729743738705, 0.4169670505698796, 0.6082849827534424, 0.7726119852172364, 0.887080739704861, 0.9998614628769783]\n",
      "\n"
     ]
    }
   ],
   "source": [
    "for i in range(2):\n",
    "    print(cdf_calculation(bino_observation, bino_estimation)[i])\n",
    "    print()"
   ]
  },
  {
   "cell_type": "markdown",
   "metadata": {},
   "source": [
    "# PLOTTING CONTINUOUS CDF"
   ]
  },
  {
   "cell_type": "code",
   "execution_count": 127,
   "metadata": {},
   "outputs": [],
   "source": [
    "def cdf_plotting(observed, name):\n",
    "    # Choose how many bins you want here\n",
    "    num_bins = 500000\n",
    "    # Use the histogram function to bin the data\n",
    "    counts, bin_edges = np.histogram(observed, bins=num_bins, normed=True)\n",
    "    observed_cdf = np.cumsum (counts)\n",
    "    \n",
    "    # Plot the CDF of the observed data\n",
    "    plt.figure(0)\n",
    "    plt.plot (bin_edges[1:], observed_cdf/observed_cdf[-1], color = 'k', linewidth = 0.9)\n",
    "    plt.title('CDF of the Observed ' + name.capitalize() + ' Distribution')\n",
    "    plt.ylabel('F(k)')\n",
    "    plt.xlabel('k')\n",
    "    if (name == 'exponential'):\n",
    "        plt.xlim([0, max(bin_edges[1:]+0.5)])\n",
    "        plt.ylim([0, max(observed_cdf/observed_cdf[-1]) + 0.2])\n",
    "    elif (name == 'normal'):\n",
    "        plt.xlim([min(bin_edges[1:]-0.5), max(bin_edges[1:]+0.5)])\n",
    "        plt.ylim([0, max(observed_cdf/observed_cdf[-1]) + 0.2])\n",
    "    plt.grid(which = 'both', linestyle='--', axis = 'y')\n",
    "    plt.savefig('cdf_observed_' + name + '.png', dpi=150)\n",
    "    \n",
    "    # Plot the CDF of the estimation data\n",
    "    if (name == 'exponential'):\n",
    "        lamb = 1 # in the case of lambda = 1\n",
    "        estimated_cdf = 1 - np.exp(-lamb*bin_edges[1:])\n",
    "    elif (name == 'normal'):\n",
    "        mu = 1\n",
    "        sigma = 1\n",
    "        estimated_cdf = []\n",
    "        for x in bin_edges[1:]:\n",
    "            estimated_cdf.append(norm.cdf((x-mu)/sigma))\n",
    "    \n",
    "    plt.figure(1)\n",
    "    plt.plot (bin_edges[1:], estimated_cdf, color = 'k', linewidth = 0.9)\n",
    "    plt.title('CDF of the Estimated ' + name.capitalize() + ' Distribution')\n",
    "    plt.ylabel('F(k)')\n",
    "    plt.xlabel('k')\n",
    "    if (name == 'exponential'):\n",
    "        plt.xlim([0, max(bin_edges[1:]+0.5)])\n",
    "        plt.ylim([0, max(observed_cdf/observed_cdf[-1]) + 0.2])\n",
    "    elif (name == 'normal'):\n",
    "        plt.xlim([min(bin_edges[1:]-0.5), max(bin_edges[1:]+0.5)])\n",
    "        plt.ylim([0, max(observed_cdf/observed_cdf[-1]) + 0.2])\n",
    "    plt.grid(which = 'both', linestyle='--', axis = 'y')\n",
    "    plt.savefig('cdf_estimated_' + name + '.png', dpi=150)\n",
    "    \n",
    "    plt.show()"
   ]
  },
  {
   "cell_type": "markdown",
   "metadata": {},
   "source": [
    "### 1. Exponential distribution"
   ]
  },
  {
   "cell_type": "code",
   "execution_count": 128,
   "metadata": {},
   "outputs": [
    {
     "name": "stderr",
     "output_type": "stream",
     "text": [
      "c:\\users\\phan nguyen vu (vpi)\\appdata\\local\\programs\\python\\python35\\lib\\site-packages\\ipykernel_launcher.py:5: VisibleDeprecationWarning: Passing `normed=True` on non-uniform bins has always been broken, and computes neither the probability density function nor the probability mass function. The result is only correct if the bins are uniform, when density=True will produce the same result anyway. The argument will be removed in a future version of numpy.\n",
      "  \"\"\"\n"
     ]
    },
    {
     "data": {
      "image/png": "[encoded data removed]",
      "text/plain": [
       "<Figure size 432x288 with 1 Axes>"
      ]
     },
     "metadata": {
      "needs_background": "light"
     },
     "output_type": "display_data"
    },
    {
     "data": {
      "image/png": "[encoded data removed]",
      "text/plain": [
       "<Figure size 432x288 with 1 Axes>"
      ]
     },
     "metadata": {
      "needs_background": "light"
     },
     "output_type": "display_data"
    }
   ],
   "source": [
    "cdf_plotting(exp_observed, 'exponential')"
   ]
  },
  {
   "cell_type": "markdown",
   "metadata": {},
   "source": [
    "### 2. Normal distribution"
   ]
  },
  {
   "cell_type": "code",
   "execution_count": 129,
   "metadata": {},
   "outputs": [
    {
     "name": "stderr",
     "output_type": "stream",
     "text": [
      "c:\\users\\phan nguyen vu (vpi)\\appdata\\local\\programs\\python\\python35\\lib\\site-packages\\ipykernel_launcher.py:5: VisibleDeprecationWarning: Passing `normed=True` on non-uniform bins has always been broken, and computes neither the probability density function nor the probability mass function. The result is only correct if the bins are uniform, when density=True will produce the same result anyway. The argument will be removed in a future version of numpy.\n",
      "  \"\"\"\n"
     ]
    },
    {
     "data": {
      "image/png": "[encoded data removed]",
      "text/plain": [
       "<Figure size 432x288 with 1 Axes>"
      ]
     },
     "metadata": {
      "needs_background": "light"
     },
     "output_type": "display_data"
    },
    {
     "data": {
      "image/png": "[encoded data removed]",
      "text/plain": [
       "<Figure size 432x288 with 1 Axes>"
      ]
     },
     "metadata": {
      "needs_background": "light"
     },
     "output_type": "display_data"
    }
   ],
   "source": [
    "cdf_plotting(norm_observed, 'normal')"
   ]
  },
  {
   "cell_type": "markdown",
   "metadata": {},
   "source": [
    "# PLOTTING DISCRETE CDF"
   ]
  },
  {
   "cell_type": "code",
   "execution_count": 100,
   "metadata": {},
   "outputs": [],
   "source": [
    "def cdf_discrete_plotting(observed, estimated, occurence, name):\n",
    "    observed_cdf = []\n",
    "    estimated_cdf = []\n",
    "    # Calculate the CDF\n",
    "    observed_cdf.append(observed[0]/500000)\n",
    "    estimated_cdf.append(estimated[0]/500000)\n",
    "    for i in range(1, len(occurence)):\n",
    "        observed_cdf.append(observed[i]/500000.0 + observed_cdf[i-1])\n",
    "        estimated_cdf.append(estimated[i]/500000.0 + observed_cdf[i-1])\n",
    "    \n",
    "    ''' CDF of the observed data '''\n",
    "    plt.figure(0)\n",
    "    plt.scatter(occurence, observed_cdf, s=30, facecolors='', edgecolors='k')\n",
    "    plt.scatter(occurence[1:10], observed_cdf[0:9], s=30, facecolors='k', edgecolors='k')\n",
    "    plt.title('CDF of the Observed Data of ' + name.capitalize() + ' Distribution')\n",
    "    plt.xlim([0, 10])\n",
    "    plt.ylim([0, 1.08])\n",
    "    plt.ylabel('F')\n",
    "    plt.xlabel('Intervals')\n",
    "    for i in range(10):\n",
    "        plt.axhline(observed_cdf[i], i*0.1, i*0.1+0.1, linewidth = 1.2, color = 'k')\n",
    "    plt.grid(which = 'both', linestyle='--', axis = 'y')\n",
    "    plt.savefig('cdf_observed_' +name+ '.png', dpi=150)\n",
    "    \n",
    "    ''' CDF of the estimated data '''\n",
    "    plt.figure(1)\n",
    "    plt.scatter(occurence, estimated_cdf, s=30, facecolors='', edgecolors='k')\n",
    "    plt.scatter(occurence[1:10], estimated_cdf[0:9], s=30, facecolors='k', edgecolors='k')\n",
    "    plt.title('CDF of the Estimated Data of ' + name.capitalize() + ' Distribution')\n",
    "    plt.xlim([0, 10])\n",
    "    plt.ylim([0, 1.08])\n",
    "    plt.ylabel('F')\n",
    "    plt.xlabel('Intervals')\n",
    "    for i in range(10):\n",
    "        plt.axhline(estimated_cdf[i], i*0.1, i*0.1+0.1, linewidth = 1.2, color = 'k')\n",
    "    plt.grid(which = 'both', linestyle='--', axis = 'y')\n",
    "    plt.savefig('cdf_estimated_' +name+ '.png', dpi=150)"
   ]
  },
  {
   "cell_type": "markdown",
   "metadata": {},
   "source": [
    "### 1. Poisson distribution"
   ]
  },
  {
   "cell_type": "code",
   "execution_count": 130,
   "metadata": {},
   "outputs": [
    {
     "data": {
      "image/png": "[encoded data removed]",
      "text/plain": [
       "<Figure size 432x288 with 1 Axes>"
      ]
     },
     "metadata": {
      "needs_background": "light"
     },
     "output_type": "display_data"
    },
    {
     "data": {
      "image/png": "[encoded data removed]",
      "text/plain": [
       "<Figure size 432x288 with 1 Axes>"
      ]
     },
     "metadata": {
      "needs_background": "light"
     },
     "output_type": "display_data"
    }
   ],
   "source": [
    "cdf_discrete_plotting(p_observation, p_estimation, ['[0,1]', '[2,3]', '[4,5]', '[6,7]', '[8,9]', '[10,11]', '[12,13]', '[14,15]', '[16,17]', '[18,inf]'], name = 'poisson')"
   ]
  },
  {
   "cell_type": "markdown",
   "metadata": {},
   "source": [
    "### 2. Geometric distribution"
   ]
  },
  {
   "cell_type": "code",
   "execution_count": 131,
   "metadata": {},
   "outputs": [
    {
     "data": {
      "image/png": "[encoded data removed]",
      "text/plain": [
       "<Figure size 432x288 with 1 Axes>"
      ]
     },
     "metadata": {
      "needs_background": "light"
     },
     "output_type": "display_data"
    },
    {
     "data": {
      "image/png": "[encoded data removed]",
      "text/plain": [
       "<Figure size 432x288 with 1 Axes>"
      ]
     },
     "metadata": {
      "needs_background": "light"
     },
     "output_type": "display_data"
    }
   ],
   "source": [
    "cdf_discrete_plotting(geo_observation, geo_estimation, ['[1,2]', '[3,4]', '[5,6]', '[7,8]', '[9,10]', '[11,12]', '[13,14]', '[15,16]', '[17,18]', '[19,inf]'], name = 'geometric')"
   ]
  },
  {
   "cell_type": "markdown",
   "metadata": {},
   "source": [
    "### 3. Binomial distribution"
   ]
  },
  {
   "cell_type": "code",
   "execution_count": 132,
   "metadata": {},
   "outputs": [
    {
     "data": {
      "image/png": "[encoded data removed]",
      "text/plain": [
       "<Figure size 432x288 with 1 Axes>"
      ]
     },
     "metadata": {
      "needs_background": "light"
     },
     "output_type": "display_data"
    },
    {
     "data": {
      "image/png": "[encoded data removed]",
      "text/plain": [
       "<Figure size 432x288 with 1 Axes>"
      ]
     },
     "metadata": {
      "needs_background": "light"
     },
     "output_type": "display_data"
    }
   ],
   "source": [
    "cdf_discrete_plotting(bino_observation, bino_estimation, ['0', '1', '2', '3', '4', '5', '6', '7', '8', '9-20'], name = 'binomial')"
   ]
  },
  {
   "cell_type": "code",
   "execution_count": null,
   "metadata": {},
   "outputs": [],
   "source": []
  },
  {
   "cell_type": "code",
   "execution_count": null,
   "metadata": {},
   "outputs": [],
   "source": []
  }
 ],
 "metadata": {
  "kernelspec": {
   "display_name": "Python 3",
   "language": "python",
   "name": "python3"
  },
  "language_info": {
   "codemirror_mode": {
    "name": "ipython",
    "version": 3
   },
   "file_extension": ".py",
   "mimetype": "text/x-python",
   "name": "python",
   "nbconvert_exporter": "python",
   "pygments_lexer": "ipython3",
   "version": "3.5.4"
  }
 },
 "nbformat": 4,
 "nbformat_minor": 2
}
