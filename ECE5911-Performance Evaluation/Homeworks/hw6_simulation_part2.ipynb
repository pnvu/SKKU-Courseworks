{
 "cells": [
  {
   "cell_type": "code",
   "execution_count": 1,
   "metadata": {},
   "outputs": [],
   "source": [
    "import numpy as np\n",
    "import matplotlib.pyplot as plt"
   ]
  },
  {
   "cell_type": "markdown",
   "metadata": {},
   "source": [
    "# Time-based simulation for instruction execution speed\n",
    "INPUT\n",
    "1. The code consists of 20%, 50%, and 30% of 1-word/2-word/3-word instruction.\n",
    "2. The probability of memory access for 1-word/2-word/3-word instruction is 30%, 50%, and 80%, respectively.\n",
    "3. The memory speed (MEMSTEP) is 10 clock cycles, while one clock period is 1 nsec. MAXSTEP is 100,000.\n",
    "\n",
    "OUTPUT\n",
    "1. The value of EXECI\n",
    "2. No. of 1-word/2-word/3-word instruction\n",
    "3. The average number of instructions executed in one second"
   ]
  },
  {
   "cell_type": "code",
   "execution_count": 2,
   "metadata": {},
   "outputs": [],
   "source": [
    "def time_simulation(probin, probmem, memstep):\n",
    "    clock_period = 0.000001 # one clock period is 1nsec\n",
    "    max_step = 100000\n",
    "    \n",
    "    np.random.seed(3) # set random seed\n",
    "    instr = 0\n",
    "    memrd = 0\n",
    "    execi = 0\n",
    "    probin.insert(0,0.0)\n",
    "    probmem.insert(0,0.0)\n",
    "    \n",
    "    # List that counts the number of 1/2/3 word instruction\n",
    "    num_word = []\n",
    "    for i in range(len(probin)):\n",
    "        num_word.append(0)\n",
    "    \n",
    "    # Divide the interval\n",
    "    for i in range(1, len(probin)):\n",
    "        probin[i] = probin[i] + probin[i-1]\n",
    "    \n",
    "    # Begin the simulation\n",
    "    for i in range(max_step):\n",
    "        # Instr fetched\n",
    "        if (instr == 0):\n",
    "            # Data fetched\n",
    "            if (memrd == 0):\n",
    "                #Instr exec complete\n",
    "                execi += 1\n",
    "                prob = np.random.uniform(0,1,1)\n",
    "                instr = 1 # generate new instr\n",
    "                while(probin[instr] < prob):\n",
    "                    instr += 1\n",
    "                num_word[instr] += 1 # count the no. of word\n",
    "                prob = np.random.uniform(0,1,1)\n",
    "                if (probmem[instr] < prob):\n",
    "                    memrd = 0\n",
    "                else:\n",
    "                    memrd = memstep\n",
    "            else:\n",
    "                memrd -= 1 # get data\n",
    "        else:\n",
    "            instr -= 1 # fetch new word\n",
    "    \n",
    "    avg_no_instruction = execi/(max_step*clock_period)\n",
    "    \n",
    "    return execi, avg_no_instruction, num_word"
   ]
  },
  {
   "cell_type": "code",
   "execution_count": 3,
   "metadata": {},
   "outputs": [
    {
     "name": "stdout",
     "output_type": "stream",
     "text": [
      "(11559, 115590.00000000001, [0, 2331, 5724, 3504])\n"
     ]
    }
   ],
   "source": [
    "print(time_simulation([0.2, 0.5, 0.3], [0.3, 0.5, 0.8], 10))"
   ]
  },
  {
   "cell_type": "markdown",
   "metadata": {},
   "source": [
    "# Event-based simulation\n",
    "INPUT \n",
    "1. N = 1000\n",
    "2. p = 0.4\n",
    "3. latency = 4ms\n",
    "4. seek time = 0.5ms\n",
    "\n",
    "OUTPUT\n",
    "1. The value of average delay"
   ]
  },
  {
   "cell_type": "code",
   "execution_count": 4,
   "metadata": {},
   "outputs": [],
   "source": [
    "def event_simulation(p, n, latency, seek):\n",
    "    clock = 0\n",
    "    np.random.seed(3)\n",
    "    source = 38 # disk head position\n",
    "    \n",
    "    for i in range(n):\n",
    "        prob = np.random.uniform(0,1,1)\n",
    "        # Determine whether or not we stay on the same track\n",
    "        if (prob < p):\n",
    "            dest = source\n",
    "            delay = latency/2\n",
    "        else:\n",
    "            # Determine which track is the next track\n",
    "            prob = np.random.uniform(0,1,1)\n",
    "            dest = np.trunc(prob*75) + 1\n",
    "            # Rule out the same track\n",
    "            if (dest >= source):\n",
    "                dest += 1\n",
    "            else:\n",
    "                pass\n",
    "            tracks = np.abs(source - dest)\n",
    "            delay = tracks*seek + latency/2\n",
    "        \n",
    "        # Update variables\n",
    "        clock = clock + delay\n",
    "        source = dest\n",
    "    \n",
    "    avg_delay = clock/n\n",
    "    return avg_delay"
   ]
  },
  {
   "cell_type": "code",
   "execution_count": 5,
   "metadata": {},
   "outputs": [
    {
     "name": "stdout",
     "output_type": "stream",
     "text": [
      "[0.0098195]\n"
     ]
    }
   ],
   "source": [
    "print(event_simulation(0.4, 1000, 0.004, 0.0005))"
   ]
  },
  {
   "cell_type": "code",
   "execution_count": null,
   "metadata": {},
   "outputs": [],
   "source": []
  },
  {
   "cell_type": "code",
   "execution_count": null,
   "metadata": {},
   "outputs": [],
   "source": []
  }
 ],
 "metadata": {
  "kernelspec": {
   "display_name": "Python 3",
   "language": "python",
   "name": "python3"
  },
  "language_info": {
   "codemirror_mode": {
    "name": "ipython",
    "version": 3
   },
   "file_extension": ".py",
   "mimetype": "text/x-python",
   "name": "python",
   "nbconvert_exporter": "python",
   "pygments_lexer": "ipython3",
   "version": "3.5.4"
  }
 },
 "nbformat": 4,
 "nbformat_minor": 2
}
